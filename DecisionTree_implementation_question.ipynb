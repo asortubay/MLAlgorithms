{
 "cells": [
  {
   "cell_type": "markdown",
   "metadata": {},
   "source": [
    "# Decision Tree Implementation"
   ]
  },
  {
   "cell_type": "markdown",
   "metadata": {},
   "source": [
    "Your task is to implement parts of the Decision Tree Classification algorithm from scratch (i.e., without importing any libraries or packages for decision trees). A decision tree is a supervised learning model used for classification tasks and is comprised of the following steps:\n",
    "\n",
    "1. Split the Dataset: Create possible splits for each feature of the dataset. For each split, separate the data into two groups based on the feature's threshold value.\n",
    "\n",
    "2. Calculate the Split Metric: For each split, calculate an evaluation metric such as Gini Impurity to determine the best split. Gini Impurity measures how often a randomly chosen element would be incorrectly labeled, aiming to create pure groups. A Gini Impurity of 0 represents perfect purity, while higher values indicate more mixed groups.\n",
    "\n",
    "3. Build the Tree Recursively: Use a recursive function to create nodes, splitting the data until a stopping criterion is met (e.g., maximum depth of tree, minimum number of samples, or no more possible splits).\n",
    "\n",
    "4. Classify New Data: Use the resulting decision tree to classify a new data point based on the feature values and decision rules at each node.\n",
    "\n",
    "You will be given a 2D array of float values, train_data, as training data, where each subarray represents a unique sample. The last element in each subarray represents the true class label (e.g., 0 or 1). You will also be given test_data, which you need to classify using the decision tree you build."
   ]
  },
  {
   "cell_type": "code",
   "execution_count": null,
   "metadata": {},
   "outputs": [],
   "source": [
    "train_data = [[2.8, 1.0, 0], \n",
    " [1.3, 3.1, 1], \n",
    " [3.6, 2.7, 0], \n",
    " [2.9, 1.9, 1], \n",
    " [1.5, 0.9, 0], \n",
    " [3.7, 1.5, 1]]\n",
    "\n",
    "\n",
    "test_data = [[3.0, 1.0], \n",
    " [1.8, 2.5], \n",
    " [2.2, 1.7]]\n"
   ]
  },
  {
   "cell_type": "code",
   "execution_count": null,
   "metadata": {},
   "outputs": [],
   "source": [
    "# skeleton code\n",
    "\n",
    "# Step 1: Split dataset based on a feature and a threshold\n",
    "def split_dataset(data, feature_index, threshold):\n",
    "    # implement this\n",
    "    pass\n",
    "\n",
    "# Step 2: Calculate Gini Impurity or Information Gain\n",
    "def calculate_gini(groups, classes):\n",
    "    # Total number of samples\n",
    "    n_samples = sum([len(group) for group in groups])\n",
    "    \n",
    "    # Gini calculation for each group\n",
    "    gini = 0.0\n",
    "    for group in groups:\n",
    "        size = len(group)\n",
    "        if size == 0:\n",
    "            continue\n",
    "        score = 0.0\n",
    "        \n",
    "        # Using set to find unique class labels in the group\n",
    "        unique_labels = set(row[-1] for row in group)\n",
    "        \n",
    "        # Calculate the proportion for each unique label\n",
    "        for label in unique_labels:\n",
    "            count = sum(1 for row in group if row[-1] == label)\n",
    "            p = count / size\n",
    "            score += p ** 2\n",
    "        \n",
    "        # Calculate weighted Gini for each group\n",
    "        gini += (1.0 - score) * (size / n_samples)\n",
    "    \n",
    "    return gini\n",
    "\n",
    "\n",
    "# Step 3: Select the best split point\n",
    "def get_best_split(data):\n",
    "    # implement this\n",
    "    pass\n",
    "\n",
    "# Step 4: Build the tree\n",
    "def build_tree(data, max_depth, min_size, depth=0):\n",
    "    # implement this\n",
    "    pass\n",
    "\n",
    "# Step 5: Make a prediction\n",
    "def predict(node, row):\n",
    "    # implement this\n",
    "    pass\n",
    "\n",
    "# Step 6: Decision Tree Classifier\n",
    "def decision_tree(train_data, test_data, max_depth, min_size):\n",
    "    # Build the tree\n",
    "    tree = build_tree(train_data, max_depth, min_size)\n",
    "    \n",
    "    # Make predictions\n",
    "    predictions = []\n",
    "    for row in test_data:\n",
    "        prediction = predict(tree, row)\n",
    "        predictions.append(prediction)\n",
    "    \n",
    "    return predictions\n"
   ]
  }
 ],
 "metadata": {
  "kernelspec": {
   "display_name": "medimagclass",
   "language": "python",
   "name": "python3"
  },
  "language_info": {
   "name": "python",
   "version": "3.11.9"
  }
 },
 "nbformat": 4,
 "nbformat_minor": 2
}
