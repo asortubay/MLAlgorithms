{
 "cells": [
  {
   "cell_type": "markdown",
   "metadata": {},
   "source": [
    "# K-Means Clustering"
   ]
  },
  {
   "cell_type": "markdown",
   "metadata": {},
   "source": [
    "Implementing K-means Clustering\n",
    "Your task is to implement parts of the K-means clustering algorithm from scratch (i.e., without importing any libraries or packages for K-means). K-means clustering is an unsupervised learning algorithm comprised of three major steps:\n",
    "\n",
    "1. Initialize centroids: Choose k centroids randomly from the data points or initialize them using a heuristic method.\n",
    "2. Assign points to clusters: For each data point, calculate the distance to each centroid and assign the point to the cluster with the closest centroid.\n",
    "3. Update centroids: Calculate the new centroids as the mean of all points in each cluster.\n",
    "4. This process is repeated until convergence, i.e., when the centroids do not change significantly or the assignments of data points remain the same.\n",
    "\n",
    "You will be given a 2D array of float values, data_points, representing the data to be clustered. Each subarray represents a unique point in the dataset. You are also given k, the number of clusters to form.\n",
    "\n",
    "Your goal is to implement the following functions to complete the K-means algorithm:\n",
    "\n",
    "1. Calculate Distance: For this task, use Euclidean distance as the distance metric.\n",
    "2. Initialize Centroids: Randomly choose k points from data_points as the initial centroids.\n",
    "3. Assign Clusters: Assign each data point to the cluster with the closest centroid.\n",
    "4. Update Centroids: Calculate new centroids by finding the mean of the points assigned to each cluster.\n",
    "5. You are also required to implement an iterative solution that continues until convergence or for a given number of iterations.\n",
    "\n"
   ]
  },
  {
   "cell_type": "code",
   "execution_count": 1,
   "metadata": {},
   "outputs": [],
   "source": [
    "example_points = [[1.0, 2.0, 3.0],\n",
    " [3.0, 4.0, 1.5],\n",
    " [1.5, 1.8, 2.2],\n",
    " [5.0, 8.0, 4.0],\n",
    " [8.0, 8.0, 3.0],\n",
    " [1.0, 0.6, 2.1],\n",
    " [9.0, 11.0, 1.5],\n",
    " [8.0, 2.0, 3.0],\n",
    " [10.0, 2.0, 4.5],\n",
    " [9.0, 3.0, 2.5]]\n",
    "\n",
    "\n",
    "k = 3\n"
   ]
  },
  {
   "cell_type": "markdown",
   "metadata": {},
   "source": [
    "skeleton code:"
   ]
  },
  {
   "cell_type": "code",
   "execution_count": null,
   "metadata": {},
   "outputs": [],
   "source": [
    "import random\n",
    "\n",
    "# Step 1: Calculate distance metric\n",
    "def euc_dist(point1, point2):\n",
    "    # implement this\n",
    "    pass\n",
    "\n",
    "# Step 2: Initialize centroids\n",
    "def initialize_centroids(data_points, k):\n",
    "    # implement this\n",
    "    pass\n",
    "\n",
    "# Step 3: Assign clusters to points\n",
    "def assign_clusters(data_points, centroids):\n",
    "    # implement this\n",
    "    pass\n",
    "\n",
    "# Step 4: Update centroids\n",
    "def update_centroids(clusters):\n",
    "    # implement this\n",
    "    pass\n",
    "\n",
    "# Step 5: Iterate until convergence\n",
    "def k_means(data_points, k, max_iterations=100):\n",
    "    # Initial centroids\n",
    "    centroids = initialize_centroids(data_points, k)\n",
    "    \n",
    "    for _ in range(max_iterations):\n",
    "        # Assign points to nearest cluster\n",
    "        clusters = assign_clusters(data_points, centroids)\n",
    "        \n",
    "        # Calculate new centroids\n",
    "        new_centroids = update_centroids(clusters)\n",
    "        \n",
    "        # Check for convergence (if centroids do not change)\n",
    "        if new_centroids == centroids:\n",
    "            break\n",
    "            \n",
    "        centroids = new_centroids\n",
    "        \n",
    "    return centroids, clusters\n"
   ]
  }
 ],
 "metadata": {
  "kernelspec": {
   "display_name": "medimagclass",
   "language": "python",
   "name": "python3"
  },
  "language_info": {
   "codemirror_mode": {
    "name": "ipython",
    "version": 3
   },
   "file_extension": ".py",
   "mimetype": "text/x-python",
   "name": "python",
   "nbconvert_exporter": "python",
   "pygments_lexer": "ipython3",
   "version": "3.11.9"
  }
 },
 "nbformat": 4,
 "nbformat_minor": 2
}
