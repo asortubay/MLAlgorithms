{
 "cells": [
  {
   "cell_type": "markdown",
   "metadata": {},
   "source": [
    "# K-nearest neighbors implementation from scratch\n"
   ]
  },
  {
   "cell_type": "markdown",
   "metadata": {},
   "source": [
    "### Algorithm procedure\n",
    "\n",
    "The k-Nearest Neighbors classification is comprised of three major steps:\n",
    "\n",
    "1. Calculate Euclidean Distance as the distance metric:\n",
    "\n",
    "$d(x, y) = \\sqrt{\\sum_{i=1}^n (x_i - y_i)^2}$ \n",
    "\n",
    "2. Identify k nearest neighbors.\n",
    "3. Assign class label by majority vote."
   ]
  },
  {
   "cell_type": "markdown",
   "metadata": {},
   "source": [
    "### Example train and test data\n",
    "\n",
    "(the last element in each subarray train_data[i] represents the true class label)"
   ]
  },
  {
   "cell_type": "code",
   "execution_count": 6,
   "metadata": {},
   "outputs": [],
   "source": [
    "train_data = [[-2.6, 1.9, 2.0, 1.0, 1.0],\n",
    " [-2.8, 1.7, -1.2, 1.5, 2.0],\n",
    " [2.8, -9.9, 0.3, 3.3, 1.0],\n",
    " [-1.5, 3.8, -1.6, -1.1, 0.0],\n",
    " [0.8, -1.2, 6.4, 2.7, 1.0],\n",
    " [-1.8, 3.2, -2.6, 2.0, 0.0],\n",
    " [-3.3, 1.1, 2.6, 0.2, 1.0],\n",
    " [2.1, 0.2, 0.9, -0.5, 0.0],\n",
    " [1.2, -0.9, 3.6, -1.9, 1.0],\n",
    " [1.3, -0.2, 1.3, -0.9, 1.0],\n",
    " [1.1, -0.8, -0.3, -1.3, 1.0],\n",
    " [-1.3, 2.4, 2.6, -1.2, 1.0],\n",
    " [1.6, -0.1, 1.6, -1.0, 1.0],\n",
    " [0.3, 3.0, -1.1, -0.7, 0.0],\n",
    " [2.8, -8.6, 3.8, -7.9, 2.0]]\n",
    "\n",
    "test_data = [[-0.8, 1.2, 8.4, -1.0],\n",
    " [1.3, 0.2, -1.3, -0.8],\n",
    " [-1.1, 2.6, 3.9, -1.9],\n",
    " [2.0, -0.7, 8.3, -1.9],\n",
    " [0.3, 1.4, -6.3, -1.4]]\n"
   ]
  },
  {
   "cell_type": "markdown",
   "metadata": {},
   "source": [
    "Skeleton code:"
   ]
  },
  {
   "cell_type": "code",
   "execution_count": 7,
   "metadata": {},
   "outputs": [],
   "source": [
    "# necessary packages\n",
    "import numpy as np"
   ]
  },
  {
   "cell_type": "code",
   "execution_count": 3,
   "metadata": {},
   "outputs": [],
   "source": [
    "# define distance metric\n",
    "def euc_dist(value1: list[float], value2: list[float]) -> float:\n",
    "    # distance from between every pair of elements in both lists\n",
    "    distance = np.sqrt(sum((a - b) ** 2 for a, b in zip(value1, value2)))\n",
    "    return distance\n",
    "\n",
    "# identify k nearest neighbors\n",
    "def k_neighbors(train_data: list[list[float]], test_case: list[float], k) -> list:\n",
    "    # calculate distances from test_case to all points in the train_data\n",
    "    distances = []\n",
    "    for row in train_data:\n",
    "        dist = euc_dist(row[:-1], test_case)\n",
    "        distances.append((row, dist)) # append the distance and what point it comes from\n",
    "    # and now we have to sort the distances in ascending order \n",
    "    distances.sort(key=lambda x:x[1]) # order according to the distance element in the tuple\n",
    "\n",
    "    #and then we get the first k elements in the ordered list\n",
    "    neighbors = [distances[i][0] for i in range(k)]\n",
    "\n",
    "    return neighbors\n",
    "\n",
    "# assign class labels\n",
    "def get_label(train_data: list[list[float]], test_case:list[float], k:int) -> int:\n",
    "    neighbors = k_neighbors(train_data, test_case, k)\n",
    "    labels = [row[-1] for row in neighbors]\n",
    "    max_label = max(set(labels), key=labels.count)\n",
    "    return max_label\n",
    "\n",
    "# pull it together\n",
    "def solution(train_data, test_data, k):\n",
    "    final_labels = list()\n",
    "    for row in test_data:\n",
    "        label = get_label(train_data, row, k)\n",
    "        final_labels.append(label)\n",
    "    return final_labels\n",
    "\n",
    "     "
   ]
  },
  {
   "cell_type": "code",
   "execution_count": null,
   "metadata": {},
   "outputs": [
    {
     "name": "stdout",
     "output_type": "stream",
     "text": [
      "[1.0, 1.0, 1.0, 1.0, 0.0]\n"
     ]
    }
   ],
   "source": [
    "print(solution(train_data, test_data, 3))\n"
   ]
  }
 ],
 "metadata": {
  "kernelspec": {
   "display_name": "medimagclass",
   "language": "python",
   "name": "python3"
  },
  "language_info": {
   "codemirror_mode": {
    "name": "ipython",
    "version": 3
   },
   "file_extension": ".py",
   "mimetype": "text/x-python",
   "name": "python",
   "nbconvert_exporter": "python",
   "pygments_lexer": "ipython3",
   "version": "3.11.9"
  }
 },
 "nbformat": 4,
 "nbformat_minor": 2
}
